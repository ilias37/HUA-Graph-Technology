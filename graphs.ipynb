{
  "nbformat": 4,
  "nbformat_minor": 0,
  "metadata": {
    "colab": {
      "provenance": []
    },
    "kernelspec": {
      "name": "python3",
      "display_name": "Python 3"
    },
    "language_info": {
      "name": "python"
    }
  },
  "cells": [
    {
      "cell_type": "markdown",
      "source": [
        "# Imports"
      ],
      "metadata": {
        "id": "oh8CRdIhCTlt"
      }
    },
    {
      "cell_type": "code",
      "source": [
        "from google.colab import drive\n",
        "drive.mount('/content/drive')\n",
        "import numpy as np\n",
        "import networkx as nx\n",
        "import matplotlib.pyplot as plt\n",
        "!pip install scikit-surprise\n",
        "from surprise import Dataset, Reader\n",
        "from surprise.model_selection import train_test_split\n",
        "from surprise import SVD\n",
        "from surprise import accuracy\n",
        "import pandas as pd"
      ],
      "metadata": {
        "id": "qXbz9busH4Bw"
      },
      "execution_count": null,
      "outputs": []
    },
    {
      "cell_type": "markdown",
      "source": [
        "# 1ο Ερώτημα"
      ],
      "metadata": {
        "id": "zngYrHNRCYWy"
      }
    },
    {
      "cell_type": "code",
      "source": [
        "def h(Zi, Zj):\n",
        "    return np.dot(Zi, Zj)"
      ],
      "metadata": {
        "id": "asESX7PRCOto"
      },
      "execution_count": null,
      "outputs": []
    },
    {
      "cell_type": "code",
      "source": [
        "def Ζ_algorithm(G, r, epsilon=1e-5, lambda_val=0.1, max_iter=1000):\n",
        "    nodes = G.nodes()\n",
        "    node_indices = {node: idx for idx, node in enumerate(nodes)}\n",
        "\n",
        "    n = len(nodes)\n",
        "    Z = np.random.rand(n, r)\n",
        "    t = 1\n",
        "    convergence = []\n",
        "\n",
        "    while True:\n",
        "        Z0 = Z.copy()\n",
        "\n",
        "        for edge in G.edges(data=True):\n",
        "            i, j, weight = edge\n",
        "            if i in nodes and j in nodes:\n",
        "                i_idx, j_idx = node_indices[i], node_indices[j]\n",
        "                eta = np.sqrt(1 / t)\n",
        "                t += 1\n",
        "                Z[i_idx] += eta * (1 - h(Z[i_idx], Z[j_idx]) * Z[j_idx] + lambda_val * Z[i_idx])\n",
        "\n",
        "        convergence.append(np.linalg.norm(Z - Z0, 'fro'))\n",
        "\n",
        "        if convergence[-1] <= epsilon or t > max_iter:\n",
        "            break\n",
        "\n",
        "    return Z, convergence"
      ],
      "metadata": {
        "id": "JnWjiYVNCREO"
      },
      "execution_count": null,
      "outputs": []
    },
    {
      "cell_type": "code",
      "source": [
        "#Uncomment any couple of lines in order to run the cell. The rest lines should be commented\n",
        "\n",
        "# # example for p2p-Gnutella08.txt\n",
        "# G = nx.read_adjlist('/content/drive/MyDrive/graphs/p2p-Gnutella08.txt')\n",
        "\n",
        "# # example for email-Eu-core.txt\n",
        "# G = nx.read_adjlist('/content/drive/MyDrive/graphs/email-Eu-core.txt')\n",
        "\n",
        "# # # example for CA-HepTh.txt\n",
        "# G = nx.read_adjlist('/content/drive/MyDrive/graphs/CA-HepTh.txt')\n",
        "\n",
        "# # example for foo.txt\n",
        "# G = nx.read_adjlist('/content/drive/MyDrive/graphs/foo.txt')"
      ],
      "metadata": {
        "id": "PfhK9v79DWAx"
      },
      "execution_count": 185,
      "outputs": []
    },
    {
      "cell_type": "code",
      "source": [
        "plt.title('Starting Graph')\n",
        "nx.draw(G, with_labels = True,  pos=nx.spring_layout(G))\n",
        "plt.show()\n",
        "\n",
        "result, convergence = Ζ_algorithm(G, r=3)\n",
        "\n",
        "print(\"Node Embeddings:\")\n",
        "print(result)\n",
        "print(\"\\n\\nConvergence: \")\n",
        "print(convergence)"
      ],
      "metadata": {
        "id": "foBfSu9HDh16"
      },
      "execution_count": null,
      "outputs": []
    },
    {
      "cell_type": "markdown",
      "source": [
        "# 2o Ερωτημα"
      ],
      "metadata": {
        "id": "ZixSa7eOTKeR"
      }
    },
    {
      "cell_type": "code",
      "source": [
        "G = nx.Graph()\n",
        "\n",
        "# create the users list and add the nodes in the graph\n",
        "users = [\"User\" + str(i) for i in range(1, 16)]\n",
        "G.add_nodes_from(users)\n",
        "\n",
        "# create the movies list and add the nodes in the graph\n",
        "movies = [\"Movie\" + str(i) for i in range(1, 6)]\n",
        "G.add_nodes_from(movies)\n",
        "\n",
        "# connect randomly the users with the movies using the weights\n",
        "for i in range(1, 16):\n",
        "    G.add_edge(\"User\" + str(i), \"Movie\" + str(np.random.randint(1, 6)), weight=np.random.randint(1, 6))\n",
        "\n",
        "# store the vectors and the convergence from the node embeddings algorithm\n",
        "result, convergence = Ζ_algorithm(G, r=2)\n",
        "\n",
        "print(\"\\n\\nNode Embeddings: \")\n",
        "print(result)\n",
        "\n",
        "# Plot the convergence over time\n",
        "plt.plot(convergence)\n",
        "plt.xlabel('Iteration')\n",
        "plt.ylabel('Convergence')\n",
        "plt.title('Convergence Over Time')\n",
        "plt.show()\n",
        "\n",
        "pos_start = nx.spring_layout(G)\n",
        "nx.draw(G, pos_start, with_labels=True)\n",
        "plt.title('Starting Graph')\n",
        "plt.show()\n",
        "\n",
        "# define the rates to be from 1 to 5\n",
        "reader = Reader(rating_scale=(1, 5))\n",
        "\n",
        "# load the edges from the graph\n",
        "edges = [(edge[0], edge[1], edge[2]['weight']) for edge in G.edges(data=True)]\n",
        "\n",
        "# create the dataset based on the edges\n",
        "data = Dataset.load_from_df(pd.DataFrame(edges, columns=['user', 'item', 'rating']), reader)\n",
        "\n",
        "# split the dataset in 2 sets\n",
        "trainset, testset = train_test_split(data, test_size=0.2, random_state=42)\n",
        "\n",
        "# define the model\n",
        "model = SVD()\n",
        "model.fit(trainset)\n",
        "\n",
        "predictions = model.test(data.build_full_trainset().build_testset())\n",
        "print(\"Predictions:\")\n",
        "for prediction in predictions:\n",
        "    print(prediction)\n",
        "\n",
        "print(accuracy.rmse(predictions))"
      ],
      "metadata": {
        "id": "2hy4bjcB233x"
      },
      "execution_count": null,
      "outputs": []
    }
  ]
}